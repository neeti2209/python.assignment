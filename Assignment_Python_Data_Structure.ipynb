{
  "nbformat": 4,
  "nbformat_minor": 0,
  "metadata": {
    "colab": {
      "provenance": []
    },
    "kernelspec": {
      "name": "python3",
      "display_name": "Python 3"
    },
    "language_info": {
      "name": "python"
    }
  },
  "cells": [
    {
      "cell_type": "markdown",
      "source": [
        "**1.  Discuss string slicing and provide examples.**"
      ],
      "metadata": {
        "id": "LePGBPEMNV9H"
      }
    },
    {
      "cell_type": "markdown",
      "source": [
        "String slicing lets you cut out a part of a string.\n",
        "\n",
        "string[start:end:step]"
      ],
      "metadata": {
        "id": "uPaO4cGkBT1g"
      }
    },
    {
      "cell_type": "code",
      "source": [
        "my_string = \"Hello, World!\"\n",
        "print(my_string[0:5])"
      ],
      "metadata": {
        "colab": {
          "base_uri": "https://localhost:8080/"
        },
        "id": "o7AfMORBBqQc",
        "outputId": "160fe2a7-2a9a-4df6-de51-e484b617ef9e"
      },
      "execution_count": 27,
      "outputs": [
        {
          "output_type": "stream",
          "name": "stdout",
          "text": [
            "Hello\n"
          ]
        }
      ]
    },
    {
      "cell_type": "code",
      "source": [
        "my_string = \"Hello, World!\"\n",
        "print(my_string[0:5:2])"
      ],
      "metadata": {
        "colab": {
          "base_uri": "https://localhost:8080/"
        },
        "id": "_0ZkY6SkB0OC",
        "outputId": "6c4dd838-1fea-4a34-eb2e-922b36bc141b"
      },
      "execution_count": 28,
      "outputs": [
        {
          "output_type": "stream",
          "name": "stdout",
          "text": [
            "Hlo\n"
          ]
        }
      ]
    },
    {
      "cell_type": "code",
      "source": [
        "my_string = \"Hello, World!\"\n",
        "print(my_string[:-6])\n",
        "print(my_string[5 :])"
      ],
      "metadata": {
        "colab": {
          "base_uri": "https://localhost:8080/"
        },
        "id": "jSl9k9ISCQJP",
        "outputId": "94175703-5021-4ab5-b600-79898bed4ac7"
      },
      "execution_count": 30,
      "outputs": [
        {
          "output_type": "stream",
          "name": "stdout",
          "text": [
            "Hello, \n",
            ", World!\n"
          ]
        }
      ]
    },
    {
      "cell_type": "code",
      "source": [
        "my_string = \"Hello, World!\"\n",
        "print(my_string[-6:-2])"
      ],
      "metadata": {
        "colab": {
          "base_uri": "https://localhost:8080/"
        },
        "id": "-pezin9TC4cK",
        "outputId": "87c0e08d-3e66-4be8-d3c6-454f5dea4f6c"
      },
      "execution_count": 31,
      "outputs": [
        {
          "output_type": "stream",
          "name": "stdout",
          "text": [
            "Worl\n"
          ]
        }
      ]
    },
    {
      "cell_type": "code",
      "source": [
        "my_string = \"Hello, World!\"\n",
        "print(my_string[5:-4])"
      ],
      "metadata": {
        "colab": {
          "base_uri": "https://localhost:8080/"
        },
        "id": "sgU0MsXsDDFT",
        "outputId": "61489b10-58f0-4bc9-fd5d-16b816eaf72a"
      },
      "execution_count": 33,
      "outputs": [
        {
          "output_type": "stream",
          "name": "stdout",
          "text": [
            ", Wo\n"
          ]
        }
      ]
    },
    {
      "cell_type": "code",
      "source": [
        "my_string = \"Hello, World!\"\n",
        "print(my_string[::-1])"
      ],
      "metadata": {
        "colab": {
          "base_uri": "https://localhost:8080/"
        },
        "id": "tz8thjO0DW_u",
        "outputId": "50b25e93-244d-48d1-9095-172df046f259"
      },
      "execution_count": 34,
      "outputs": [
        {
          "output_type": "stream",
          "name": "stdout",
          "text": [
            "!dlroW ,olleH\n"
          ]
        }
      ]
    },
    {
      "cell_type": "code",
      "source": [
        "my_string = \"Hello, World!\"\n",
        "print(my_string[::-2])"
      ],
      "metadata": {
        "colab": {
          "base_uri": "https://localhost:8080/"
        },
        "id": "tBfZX04VDdOW",
        "outputId": "489a83d5-9aac-48bd-d108-9731b8bb6594"
      },
      "execution_count": 35,
      "outputs": [
        {
          "output_type": "stream",
          "name": "stdout",
          "text": [
            "!lo olH\n"
          ]
        }
      ]
    },
    {
      "cell_type": "markdown",
      "source": [
        "\n",
        "**2. Explain the key features of lists in Python.**"
      ],
      "metadata": {
        "id": "fU9zRjIl-pRl"
      }
    },
    {
      "cell_type": "markdown",
      "source": [
        "Key Features of Lists in Python\n",
        "\n",
        "1. Ordered: Elements maintain the order you insert them in.\n",
        "\n",
        "2. Mutable: You can change, add, or remove elements.\n",
        "\n",
        "3. Allows Duplicates: Same value can appear multiple times.\n",
        "\n",
        "4. Dynamic Size: Lists can grow or shrink as needed.\n",
        "\n",
        "5. Heterogeneous: Can store different data types (e.g., integers, strings).\n",
        "\n",
        "6. Indexing & Slicing: Access elements using their index or a range.\n",
        "\n",
        "7. Iterable: You can loop through lists.\n",
        "\n",
        "8. Nested Lists: Lists can contain other lists.\n"
      ],
      "metadata": {
        "id": "lcK7wK1A-wgw"
      }
    },
    {
      "cell_type": "code",
      "source": [
        "my_list = [1, 2, 3, 4, 5]\n",
        "print(my_list)"
      ],
      "metadata": {
        "colab": {
          "base_uri": "https://localhost:8080/"
        },
        "id": "WlgWL6GB_I_t",
        "outputId": "d061021f-405f-4396-bb94-d78811d9efa9"
      },
      "execution_count": 19,
      "outputs": [
        {
          "output_type": "stream",
          "name": "stdout",
          "text": [
            "[1, 2, 3, 4, 5]\n"
          ]
        }
      ]
    },
    {
      "cell_type": "code",
      "source": [
        "my_list = [1, 2, 3, 4, 5]\n",
        "my_list.append(6)\n",
        "print(my_list)"
      ],
      "metadata": {
        "colab": {
          "base_uri": "https://localhost:8080/"
        },
        "id": "t3jbQAHD_Zzv",
        "outputId": "e5f0384e-756c-49d6-fa3d-fee9bca497fe"
      },
      "execution_count": 21,
      "outputs": [
        {
          "output_type": "stream",
          "name": "stdout",
          "text": [
            "[1, 2, 3, 4, 5, 6]\n"
          ]
        }
      ]
    },
    {
      "cell_type": "code",
      "source": [
        "my_list = (10, 20, 10, 30, 10)\n",
        "print(my_list)"
      ],
      "metadata": {
        "colab": {
          "base_uri": "https://localhost:8080/"
        },
        "id": "ePdFKGtU_edS",
        "outputId": "80c0bfb0-fe92-4188-efd1-ecc4cce0a443"
      },
      "execution_count": 22,
      "outputs": [
        {
          "output_type": "stream",
          "name": "stdout",
          "text": [
            "(10, 20, 10, 30, 10)\n"
          ]
        }
      ]
    },
    {
      "cell_type": "code",
      "source": [
        "my_list = [\"ajay\", 24, 2.86, \"male\"]\n",
        "print(my_list)"
      ],
      "metadata": {
        "colab": {
          "base_uri": "https://localhost:8080/"
        },
        "id": "h8z-EeEA_qOX",
        "outputId": "832bdd1c-70c9-42bf-b5ca-d861c87046fa"
      },
      "execution_count": 23,
      "outputs": [
        {
          "output_type": "stream",
          "name": "stdout",
          "text": [
            "['ajay', 24, 2.86, 'male']\n"
          ]
        }
      ]
    },
    {
      "cell_type": "code",
      "source": [
        "my_list = [10, 20, 55, 30,10]\n",
        "print(my_list[-2])\n",
        "print(my_list[1:4])"
      ],
      "metadata": {
        "colab": {
          "base_uri": "https://localhost:8080/"
        },
        "id": "7g5lWysD_89s",
        "outputId": "bfc3f036-045e-493d-bb34-986e8c659560"
      },
      "execution_count": 25,
      "outputs": [
        {
          "output_type": "stream",
          "name": "stdout",
          "text": [
            "30\n",
            "[20, 55, 30]\n"
          ]
        }
      ]
    },
    {
      "cell_type": "markdown",
      "source": [
        "**3. Describe how to access, modify, and delete elements in a list with examples.**"
      ],
      "metadata": {
        "id": "nonTWbQW8y4d"
      }
    },
    {
      "cell_type": "markdown",
      "source": [
        "Access: Use indexing my_list[index] to access elements.\n",
        "\n",
        "Modify: Assign a new value using my_list[index] = new_value.\n",
        "\n",
        "Delete: Use del, remove(), or pop() to remove elements."
      ],
      "metadata": {
        "id": "GuTQgVQ79BAp"
      }
    },
    {
      "cell_type": "code",
      "source": [
        "my_list = [1, 2, 3, 4, 5]\n",
        "print(my_list[0])"
      ],
      "metadata": {
        "colab": {
          "base_uri": "https://localhost:8080/"
        },
        "id": "Z51mQfaa9vZG",
        "outputId": "001e0177-f7a6-4546-fc5b-299528e20cab"
      },
      "execution_count": 14,
      "outputs": [
        {
          "output_type": "stream",
          "name": "stdout",
          "text": [
            "1\n"
          ]
        }
      ]
    },
    {
      "cell_type": "code",
      "source": [
        "my_list = [1, 2, 3, 4, 5]\n",
        "my_list[0] = 10\n",
        "print(my_list)"
      ],
      "metadata": {
        "colab": {
          "base_uri": "https://localhost:8080/"
        },
        "id": "4BL-YJku9-tp",
        "outputId": "13356052-84ad-4368-d3b9-1f638e765062"
      },
      "execution_count": 15,
      "outputs": [
        {
          "output_type": "stream",
          "name": "stdout",
          "text": [
            "[10, 2, 3, 4, 5]\n"
          ]
        }
      ]
    },
    {
      "cell_type": "code",
      "source": [
        "my_list = [1, 2, 3, 4, 5]\n",
        "my_list[-1] = 55\n",
        "print(my_list[-1])"
      ],
      "metadata": {
        "colab": {
          "base_uri": "https://localhost:8080/"
        },
        "id": "QQjiLWLR-GiE",
        "outputId": "6d6d6046-0519-4ddf-d46f-0376f00e56f1"
      },
      "execution_count": 17,
      "outputs": [
        {
          "output_type": "stream",
          "name": "stdout",
          "text": [
            "55\n"
          ]
        }
      ]
    },
    {
      "cell_type": "code",
      "source": [
        "my_list = [1, 2, 3, 4, 5]\n",
        "del my_list[-2]\n",
        "print(my_list)"
      ],
      "metadata": {
        "colab": {
          "base_uri": "https://localhost:8080/"
        },
        "id": "Y4znAhIU-dMQ",
        "outputId": "30e60484-3831-445f-e249-7227a13ef0a8"
      },
      "execution_count": 18,
      "outputs": [
        {
          "output_type": "stream",
          "name": "stdout",
          "text": [
            "[1, 2, 3, 5]\n"
          ]
        }
      ]
    },
    {
      "cell_type": "code",
      "source": [
        "my_list = [10, 20, 50]\n",
        "for element in my_list:\n",
        "    print(element)"
      ],
      "metadata": {
        "colab": {
          "base_uri": "https://localhost:8080/"
        },
        "id": "vtoAmD1YAjFm",
        "outputId": "00a4c54d-0d84-4304-f658-e9b6431215a9"
      },
      "execution_count": 26,
      "outputs": [
        {
          "output_type": "stream",
          "name": "stdout",
          "text": [
            "10\n",
            "20\n",
            "50\n"
          ]
        }
      ]
    },
    {
      "cell_type": "markdown",
      "source": [
        "**4. Compare and contrast tuples and lists with examples.**"
      ],
      "metadata": {
        "id": "dSSDSM9L6lDL"
      }
    },
    {
      "cell_type": "markdown",
      "source": [
        "**1. Definition**\n",
        "\n",
        "List: A list is a mutable, ordered collection of elements, which allows duplicates. You can change, add, or remove items after the list is created.\n",
        "\n",
        "Tuple: A tuple is an immutable, ordered collection of elements, which also allows duplicates. Once a tuple is created, you cannot change its elements."
      ],
      "metadata": {
        "id": "wCZbAdhg6ssw"
      }
    },
    {
      "cell_type": "markdown",
      "source": [
        "**2. Syntax**\n",
        "\n",
        "List: Lists are defined using square brackets []"
      ],
      "metadata": {
        "id": "b3CJhdT47ADL"
      }
    },
    {
      "cell_type": "code",
      "source": [
        "my_list = [1, 2, 3, 4, 5]"
      ],
      "metadata": {
        "id": "9WAqu-eK7Kit"
      },
      "execution_count": null,
      "outputs": []
    },
    {
      "cell_type": "markdown",
      "source": [
        "Tuple: Tuples are defined using parentheses ()"
      ],
      "metadata": {
        "id": "aqsolLCX7NMP"
      }
    },
    {
      "cell_type": "code",
      "source": [
        "my_tuple = (1, 2, 3, 4, 5)"
      ],
      "metadata": {
        "id": "HqkijL6u7SWG"
      },
      "execution_count": null,
      "outputs": []
    },
    {
      "cell_type": "markdown",
      "source": [
        "**3. Mutability**\n",
        "\n",
        "List (Mutable): You can modify a list after it’s created by adding, removing, or changing elements."
      ],
      "metadata": {
        "id": "XoAzpt-t7Urv"
      }
    },
    {
      "cell_type": "code",
      "source": [
        "my_list = [1, 4, 5, 3, 6,]\n",
        "my_list.append(2)\n",
        "print(my_list)"
      ],
      "metadata": {
        "colab": {
          "base_uri": "https://localhost:8080/"
        },
        "id": "DXXlzXEo7gwk",
        "outputId": "9d45d0c1-f1ac-4c85-8f55-1817694f8b87"
      },
      "execution_count": 13,
      "outputs": [
        {
          "output_type": "stream",
          "name": "stdout",
          "text": [
            "[1, 4, 5, 3, 6, 2]\n"
          ]
        }
      ]
    },
    {
      "cell_type": "markdown",
      "source": [
        "Tuple (Immutable): You cannot change, add, or remove elements from a tuple after it’s created."
      ],
      "metadata": {
        "id": "2ZTS8ia17vQh"
      }
    },
    {
      "cell_type": "code",
      "source": [
        "my_tuple = (1, 4, 5, 6, 3,)"
      ],
      "metadata": {
        "id": "6XwGTTu17whO"
      },
      "execution_count": null,
      "outputs": []
    },
    {
      "cell_type": "markdown",
      "source": [
        "**4. Performance**\n",
        "\n",
        "List: Lists are generally slower than tuples because they are mutable and offer more functionalities.\n",
        "\n",
        "Tuple: Tuples are faster than lists due to their immutability. If you need a collection that you don’t need to modify, tuples are more efficient."
      ],
      "metadata": {
        "id": "TB28hQUg78Xr"
      }
    },
    {
      "cell_type": "markdown",
      "source": [
        "**5. Use Cases**\n",
        "\n",
        "List: Use lists when you need a dynamic collection where elements might change.\n",
        "\n",
        "Tuple: Use tuples when you need a fixed collection of items, such as coordinates, where the data should not change."
      ],
      "metadata": {
        "id": "lMiVOxt68KkL"
      }
    },
    {
      "cell_type": "markdown",
      "source": [
        "**5. Describe the key features of sets and provide examples of their use.**\n"
      ],
      "metadata": {
        "id": "sQJ_PBf2uE5B"
      }
    },
    {
      "cell_type": "markdown",
      "source": [
        "Key Features of Sets in Python\n",
        "\n",
        "1. Unique Elements:\n",
        "\n",
        "No Duplicates: Sets automatically remove any duplicate items, so each element is unique."
      ],
      "metadata": {
        "id": "kptmp4wjujtg"
      }
    },
    {
      "cell_type": "code",
      "source": [
        "my_set = {1, 2, 3, 2, 4, 5}\n",
        "print(my_set)"
      ],
      "metadata": {
        "colab": {
          "base_uri": "https://localhost:8080/"
        },
        "id": "FUt7pcrmy3jH",
        "outputId": "510e7c80-4395-41bf-f371-95c1b8e8f8e1"
      },
      "execution_count": null,
      "outputs": [
        {
          "output_type": "stream",
          "name": "stdout",
          "text": [
            "{1, 2, 3, 4, 5}\n"
          ]
        }
      ]
    },
    {
      "cell_type": "markdown",
      "source": [
        "2. Unordered:\n",
        "\n",
        "No Specific Order: The elements in a set don’t have a fixed order, so they may appear in any sequence."
      ],
      "metadata": {
        "id": "clCIoV740Nn2"
      }
    },
    {
      "cell_type": "code",
      "source": [
        "my_set = {2,4,3,5,1}\n",
        "print(my_set)"
      ],
      "metadata": {
        "colab": {
          "base_uri": "https://localhost:8080/"
        },
        "id": "WUUHAZvC0WJF",
        "outputId": "3eb95446-f779-46c0-da8b-008ac96f7091"
      },
      "execution_count": null,
      "outputs": [
        {
          "output_type": "stream",
          "name": "stdout",
          "text": [
            "{1, 2, 3, 4, 5}\n"
          ]
        }
      ]
    },
    {
      "cell_type": "markdown",
      "source": [
        "3. No Indexing:\n",
        "\n",
        "Cannot Access by Position: Since sets don’t have a specific order, you can’t access items by their position like you can with lists or tuples.\n"
      ],
      "metadata": {
        "id": "cKZkf-5e0mXJ"
      }
    },
    {
      "cell_type": "markdown",
      "source": [
        "4. Changeable:\n",
        "\n",
        "Add or Remove Items: You can add or remove elements from a set after it’s created."
      ],
      "metadata": {
        "id": "SHroL1220oUX"
      }
    },
    {
      "cell_type": "code",
      "source": [
        "my_set = {1, 2, 3}\n",
        "my_set.add(4)\n",
        "print(my_set)"
      ],
      "metadata": {
        "colab": {
          "base_uri": "https://localhost:8080/"
        },
        "id": "WWCCGNqA0t7b",
        "outputId": "9fd9bb4c-90e9-4ee4-ee0d-eedd13db884a"
      },
      "execution_count": null,
      "outputs": [
        {
          "output_type": "stream",
          "name": "stdout",
          "text": [
            "{1, 2, 3, 4}\n"
          ]
        }
      ]
    },
    {
      "cell_type": "code",
      "source": [
        "my_set = {1, 2, 3}\n",
        "my_set.remove(2)\n",
        "print(my_set)"
      ],
      "metadata": {
        "colab": {
          "base_uri": "https://localhost:8080/"
        },
        "id": "NPuyxD080yPz",
        "outputId": "020341fd-4bdd-4f0a-95d6-cb02da0ab802"
      },
      "execution_count": null,
      "outputs": [
        {
          "output_type": "stream",
          "name": "stdout",
          "text": [
            "{1, 3}\n"
          ]
        }
      ]
    },
    {
      "cell_type": "markdown",
      "source": [
        "5. Fast Membership Testing:\n",
        "\n",
        "Quick Checks: It’s very fast to check if an item is in a set.\n"
      ],
      "metadata": {
        "id": "fBCe1oE906Jd"
      }
    },
    {
      "cell_type": "code",
      "source": [
        "my_set = {1, 2, 3, 4, 5, 10, 20, 30, 50, 35}\n",
        "print(10 in my_set)\n"
      ],
      "metadata": {
        "colab": {
          "base_uri": "https://localhost:8080/"
        },
        "id": "3rToumjz07UF",
        "outputId": "d1a077fb-35b7-491c-d2b0-b33a73f6508d"
      },
      "execution_count": null,
      "outputs": [
        {
          "output_type": "stream",
          "name": "stdout",
          "text": [
            "True\n"
          ]
        }
      ]
    },
    {
      "cell_type": "markdown",
      "source": [
        "**6. Discuss the use cases of tuples and sets in Python programming.**"
      ],
      "metadata": {
        "id": "S2QDLm8KfOFS"
      }
    },
    {
      "cell_type": "markdown",
      "source": [
        "Tuples and sets are two fundamental data structures in Python, each with distinct use cases and characteristics. Here’s a discussion of their use cases:\n",
        "\n",
        "**Tuples**\n",
        "\n",
        "Characteristics:\n",
        "\n",
        "a. Immutable: Once created, you cannot change the elements of a tuple.\n",
        "\n",
        "b. Ordered: Elements maintain their order.\n",
        "\n",
        "c. Allow Duplicates: You can have multiple occurrences of the same value."
      ],
      "metadata": {
        "id": "DX0rdo7VgCl2"
      }
    },
    {
      "cell_type": "markdown",
      "source": [
        "Use Cases:\n",
        "\n",
        "1. Fixed Data: Use tuples to store data that should not change.\n",
        "\n",
        "2. Function Return Values: Tuples are often used to return multiple values from a function. They provide a simple way to group related data together.\n",
        "\n",
        "3. Data Integrity: since tuples are immutable, they are useful for ensuring that data cannot be accidentally modified. They can be used as keys in dictionaries (unlike lists).\n",
        "\n",
        "4. Iterating Over Data: Tuples are a good choice for iteration when the data does not need modification.\n",
        "\n",
        "5. Packing and Unpacking: Tuples support packing and unpacking of values, which can make your code more readable and concise."
      ],
      "metadata": {
        "id": "4npw_bZbgXnQ"
      }
    },
    {
      "cell_type": "markdown",
      "source": [
        "**Sets**\n",
        "\n",
        "Characteristics:\n",
        "\n",
        "a. Mutable: You can add and remove elements after creation.\n",
        "\n",
        "b. Unordered: Elements have no specific order.\n",
        "\n",
        "c. No Duplicates: Sets do not allow duplicate elements."
      ],
      "metadata": {
        "id": "V5aJOGjzkZzg"
      }
    },
    {
      "cell_type": "markdown",
      "source": [
        "Use Cases:\n",
        "\n",
        "1. Unique Elements: Use sets when you need to ensure that all elements are unique. For example, removing duplicate values from a list.\n"
      ],
      "metadata": {
        "id": "g15VyDqzkpOI"
      }
    },
    {
      "cell_type": "code",
      "source": [
        "unique_numbers = set([1, 2, 3, 2, 4, 5])\n",
        "print(unique_numbers)"
      ],
      "metadata": {
        "colab": {
          "base_uri": "https://localhost:8080/"
        },
        "id": "QBL-_H_snuuS",
        "outputId": "a4dba224-8780-4baf-de76-d1959e756a4c"
      },
      "execution_count": null,
      "outputs": [
        {
          "output_type": "stream",
          "name": "stdout",
          "text": [
            "{1, 2, 3, 4, 5}\n"
          ]
        }
      ]
    },
    {
      "cell_type": "markdown",
      "source": [
        "2. Membership Testing: Sets are optimized for checking membership. They provide an efficient way to test whether an element is present."
      ],
      "metadata": {
        "id": "0jPJWNbTnvM5"
      }
    },
    {
      "cell_type": "code",
      "source": [
        "my_set = {1, 2, 3}\n",
        "print(2 in my_set)"
      ],
      "metadata": {
        "colab": {
          "base_uri": "https://localhost:8080/"
        },
        "id": "RCneUH0zopcQ",
        "outputId": "4e98ce21-43a9-4c12-8bda-41d1a387e461"
      },
      "execution_count": null,
      "outputs": [
        {
          "output_type": "stream",
          "name": "stdout",
          "text": [
            "True\n"
          ]
        }
      ]
    },
    {
      "cell_type": "markdown",
      "source": [
        "3. Set Operations:\n",
        "\n",
        "Sets support mathematical set operations like union, intersection, and difference. These operations are useful for tasks involving comparisons between collections."
      ],
      "metadata": {
        "id": "FZn4ytog3rAy"
      }
    },
    {
      "cell_type": "code",
      "source": [
        "set_a = {1, 2, 3}\n",
        "set_b = {3, 4, 5}\n",
        "print(set_a | set_b)\n",
        "print(set_a & set_b)\n",
        "print(set_a - set_b)"
      ],
      "metadata": {
        "id": "hopmPkAS1pq6",
        "colab": {
          "base_uri": "https://localhost:8080/"
        },
        "outputId": "4b3de466-92a5-4b61-faf5-ac12ddeff514"
      },
      "execution_count": 8,
      "outputs": [
        {
          "output_type": "stream",
          "name": "stdout",
          "text": [
            "{1, 2, 3, 4, 5}\n",
            "{3}\n",
            "{1, 2}\n"
          ]
        }
      ]
    },
    {
      "cell_type": "markdown",
      "source": [
        "4. Removing Duplicates:\n",
        "\n",
        "Use sets to automatically remove duplicates from a list or other collections."
      ],
      "metadata": {
        "id": "VVAfh2x5rubB"
      }
    },
    {
      "cell_type": "code",
      "source": [
        "my_numbers = {1, 2, 3, 2, 4, 5,1,2,3}\n",
        "unique_numbers = list(my_numbers)\n",
        "print(unique_numbers)"
      ],
      "metadata": {
        "colab": {
          "base_uri": "https://localhost:8080/"
        },
        "id": "8XYrZNff4IjF",
        "outputId": "679fe6fc-3316-401c-9a6b-2ffb2e52bd9c"
      },
      "execution_count": 9,
      "outputs": [
        {
          "output_type": "stream",
          "name": "stdout",
          "text": [
            "[1, 2, 3, 4, 5]\n"
          ]
        }
      ]
    },
    {
      "cell_type": "markdown",
      "source": [
        "**7. Describe how to add, modify and delete items in a dictionary with examples.**"
      ],
      "metadata": {
        "id": "jQoyjoQOVM3X"
      }
    },
    {
      "cell_type": "code",
      "source": [
        "my_dict = {\"name\": \"John\",\"age\": 30,\"city\": \"New York\"}\n",
        "my_dict[\"country\"] = \"USA\"\n",
        "print(my_dict)"
      ],
      "metadata": {
        "colab": {
          "base_uri": "https://localhost:8080/"
        },
        "id": "DfnOojlZWIZW",
        "outputId": "fa53d018-5308-4dcd-ea18-f433097260b1"
      },
      "execution_count": null,
      "outputs": [
        {
          "output_type": "stream",
          "name": "stdout",
          "text": [
            "{'name': 'John', 'age': 30, 'city': 'New York', 'country': 'USA'}\n"
          ]
        }
      ]
    },
    {
      "cell_type": "code",
      "source": [
        "my_dict = {\"name\": \"John\",\"age\": 30,\"city\": \"New York\"}\n",
        "my_dict[\"age\"] = 31\n",
        "print(my_dict)"
      ],
      "metadata": {
        "colab": {
          "base_uri": "https://localhost:8080/"
        },
        "id": "aF5U3vXeWrmb",
        "outputId": "c9b60056-ba74-45cd-a1f9-bced2ff5eb60"
      },
      "execution_count": null,
      "outputs": [
        {
          "output_type": "stream",
          "name": "stdout",
          "text": [
            "{'name': 'John', 'age': 31, 'city': 'New York'}\n"
          ]
        }
      ]
    },
    {
      "cell_type": "code",
      "source": [
        "my_dict = {\"name\": \"John\",\"age\": 30,\"city\": \"New York\"}\n",
        "del my_dict[\"city\"]\n",
        "print(my_dict)"
      ],
      "metadata": {
        "colab": {
          "base_uri": "https://localhost:8080/"
        },
        "id": "HEnyyM4dXCF9",
        "outputId": "b7a3d442-dc73-409d-f0df-f0229408e37b"
      },
      "execution_count": null,
      "outputs": [
        {
          "output_type": "stream",
          "name": "stdout",
          "text": [
            "{'name': 'John', 'age': 30}\n"
          ]
        }
      ]
    },
    {
      "cell_type": "markdown",
      "source": [
        "**8. Discuss the importance of dictionary keys being immutable and provide examples.**"
      ],
      "metadata": {
        "id": "9G6Slb8kS15u"
      }
    },
    {
      "cell_type": "markdown",
      "source": [
        "In Python, the immutability of dictionary keys is crucial for maintaining the integrity and functionality of dictionaries.\n"
      ],
      "metadata": {
        "id": "sg92hOyBS3EX"
      }
    },
    {
      "cell_type": "markdown",
      "source": [
        "Dictionary keys need to be immutable (unchangeable) to work properly. This ensures they are easy to find and use, making dictionaries fast and reliable."
      ],
      "metadata": {
        "id": "Kg9rDS0UThYx"
      }
    },
    {
      "cell_type": "code",
      "source": [
        "my_dict = {\"name\": \"John\",\"age\": 30,\"city\": \"New York\"}\n",
        "print(my_dict[\"name\"])\n"
      ],
      "metadata": {
        "colab": {
          "base_uri": "https://localhost:8080/"
        },
        "id": "_OxWgJaEThlB",
        "outputId": "72fae61e-77e1-4b7e-84a8-edf474c471c5"
      },
      "execution_count": null,
      "outputs": [
        {
          "output_type": "stream",
          "name": "stdout",
          "text": [
            "John\n"
          ]
        }
      ]
    },
    {
      "cell_type": "code",
      "source": [
        "my_dict = {\"name\": \"John\",\"age\": 30,\"city\": \"New York\"}\n",
        "my_dict[\"name\"] = \"Alice\"\n",
        "print(my_dict)"
      ],
      "metadata": {
        "colab": {
          "base_uri": "https://localhost:8080/"
        },
        "id": "IpKF8J01pwLF",
        "outputId": "64106be5-6d4d-45ce-9510-9b40b91bfc21"
      },
      "execution_count": null,
      "outputs": [
        {
          "output_type": "stream",
          "name": "stdout",
          "text": [
            "{'name': 'Alice', 'age': 30, 'city': 'New York'}\n"
          ]
        }
      ]
    }
  ]
}