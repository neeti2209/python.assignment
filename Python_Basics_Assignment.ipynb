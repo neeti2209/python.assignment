{
  "nbformat": 4,
  "nbformat_minor": 0,
  "metadata": {
    "colab": {
      "provenance": []
    },
    "kernelspec": {
      "name": "python3",
      "display_name": "Python 3"
    },
    "language_info": {
      "name": "python"
    }
  },
  "cells": [
    {
      "cell_type": "markdown",
      "source": [
        "**Explain the key features of python that make it a popular choice for programming.**\n",
        "\n",
        "python is popular because:\n",
        "\n",
        "1. Its easy to learn and use\n",
        "\n",
        "2. Its a general purpose language, you can use it for data science, web programming,AI and many more.\n",
        "\n",
        "3. Its has so many pre built libraries like pandas, numpy etc.\n",
        "\n",
        "4. Its great for handling big data and complex algorithms.\n",
        "\n",
        "\n",
        "\n",
        "\n",
        "\n",
        "\n"
      ],
      "metadata": {
        "id": "_f7CDaOE9CqD"
      }
    },
    {
      "cell_type": "markdown",
      "source": [
        "**Describe the role of predefined keywords in python and provide examples how they are used in a program.**\n",
        "\n",
        "Predefined words are the reserved words that hold special meaning and have specific purpose.\n",
        "\n",
        " 'if' , 'elif', 'else' , 'for', 'while'."
      ],
      "metadata": {
        "id": "QVVW25aLxENa"
      }
    },
    {
      "cell_type": "code",
      "source": [
        "n=10\n",
        "if n>5:\n",
        "  print(\"n is greater than 5\")\n",
        "elif n == 5:\n",
        "  print(\"n is equal to 5\")\n",
        "else:\n",
        "  print(\"n is less than 5\")"
      ],
      "metadata": {
        "colab": {
          "base_uri": "https://localhost:8080/"
        },
        "id": "9muNsNO1ycez",
        "outputId": "ae04f886-d440-458e-aadb-f7219c31391f"
      },
      "execution_count": null,
      "outputs": [
        {
          "output_type": "stream",
          "name": "stdout",
          "text": [
            "n is greater than 5\n"
          ]
        }
      ]
    },
    {
      "cell_type": "code",
      "source": [
        "for i in range(7):\n",
        "    print(i)\n"
      ],
      "metadata": {
        "colab": {
          "base_uri": "https://localhost:8080/"
        },
        "id": "phCrzHeqGol9",
        "outputId": "8c3f6fa3-42fb-4739-f19f-732bc6cbf330"
      },
      "execution_count": null,
      "outputs": [
        {
          "output_type": "stream",
          "name": "stdout",
          "text": [
            "0\n",
            "1\n",
            "2\n",
            "3\n",
            "4\n",
            "5\n",
            "6\n"
          ]
        }
      ]
    },
    {
      "cell_type": "markdown",
      "source": [
        "**Compare and contrast mutable and immutable objects in Python with examples.**\n",
        "\n",
        "Mutable Objects\n",
        "\n",
        "Mutable objects are those whose values can be changed after they are created.\n",
        "If you modify a mutable object, the change affects the original object, and no new object is created.\n",
        "They are useful when you need to store and manipulate a collection of data that can change over time.\n",
        "For ex - lists and dictionaries.\n",
        "\n"
      ],
      "metadata": {
        "id": "qNFwLAHM7pL_"
      }
    },
    {
      "cell_type": "code",
      "source": [
        "list_container = [1,2,3,4,5,5,2 ]\n",
        "list_container[0] = 10\n",
        "print(list_container)\n"
      ],
      "metadata": {
        "colab": {
          "base_uri": "https://localhost:8080/"
        },
        "id": "mZXxfyP3FMpg",
        "outputId": "812a1105-37ca-4c42-c596-35813538ab49"
      },
      "execution_count": 11,
      "outputs": [
        {
          "output_type": "stream",
          "name": "stdout",
          "text": [
            "[10, 2, 3, 4, 5, 5, 2]\n"
          ]
        }
      ]
    },
    {
      "cell_type": "code",
      "source": [
        "list_container = [1,2,3,4,5,5,2 ]\n",
        "list_container[4] = 50\n",
        "print(list_container)"
      ],
      "metadata": {
        "colab": {
          "base_uri": "https://localhost:8080/"
        },
        "id": "-AXSWPq9GWl4",
        "outputId": "2fc81adc-cb51-4729-d709-66781f0def35"
      },
      "execution_count": 13,
      "outputs": [
        {
          "output_type": "stream",
          "name": "stdout",
          "text": [
            "[1, 2, 3, 4, 50, 5, 2]\n"
          ]
        }
      ]
    },
    {
      "cell_type": "markdown",
      "source": [
        "Immutable Objects\n",
        "\n",
        "Immutable objects are those whose values cannot be changed once they are created.\n",
        "\n",
        "If you try to modify an immutable object, a new object is created with the modified value, leaving the original object unchanged.\n",
        "\n",
        "They are ideal for data that should remain constant, ensuring that the value does not accidentally change during program execution.\n",
        "\n",
        "for ex - strings , integers , float ."
      ],
      "metadata": {
        "id": "x1NS418lF-uG"
      }
    },
    {
      "cell_type": "code",
      "source": [
        "string_container = \"preeti\"\n",
        "new_string = \"Hi, I am \" + string_container\n",
        "print(new_string)\n"
      ],
      "metadata": {
        "colab": {
          "base_uri": "https://localhost:8080/"
        },
        "id": "Kv9yXT_SGTUL",
        "outputId": "ed6b9fc1-9c35-4ef6-b8e2-8d6219f8964b"
      },
      "execution_count": 16,
      "outputs": [
        {
          "output_type": "stream",
          "name": "stdout",
          "text": [
            "Hi, I am preeti\n"
          ]
        }
      ]
    },
    {
      "cell_type": "code",
      "source": [
        "int = 20\n",
        "new_int = int + 5\n",
        "print(new_int)"
      ],
      "metadata": {
        "colab": {
          "base_uri": "https://localhost:8080/"
        },
        "id": "hghDJtFwIRYX",
        "outputId": "dcd44610-7e27-4ade-b1cf-bb766dc9b9ba"
      },
      "execution_count": 17,
      "outputs": [
        {
          "output_type": "stream",
          "name": "stdout",
          "text": [
            "25\n"
          ]
        }
      ]
    },
    {
      "cell_type": "markdown",
      "source": [
        "\n",
        "**Discuss the different types of operators in Python and provide examples of how they are used.**\n",
        "\n",
        "\n",
        " In Python, operators are special symbols used to perform operations on variables and values. There are several types of operators in Python:\n",
        "  \n",
        "  1. Arithmetic operators - perform basic mathematical calculations. like +,*,/,% etc.\n"
      ],
      "metadata": {
        "id": "3i8yE6DJ7pa4"
      }
    },
    {
      "cell_type": "code",
      "source": [
        "x = 6\n",
        "y = 8\n",
        "print(x*y)"
      ],
      "metadata": {
        "colab": {
          "base_uri": "https://localhost:8080/"
        },
        "id": "YM45llCH9ICz",
        "outputId": "06ea402b-dc59-4fe9-ac95-46fcf86d1200"
      },
      "execution_count": null,
      "outputs": [
        {
          "output_type": "stream",
          "name": "stdout",
          "text": [
            "48\n"
          ]
        }
      ]
    },
    {
      "cell_type": "code",
      "source": [
        "x = 8\n",
        "y = 2\n",
        "print(x/y)\n"
      ],
      "metadata": {
        "colab": {
          "base_uri": "https://localhost:8080/"
        },
        "id": "eiYmTg7c_x5n",
        "outputId": "8836014e-34e8-4df3-85a7-2822f7dfb718"
      },
      "execution_count": null,
      "outputs": [
        {
          "output_type": "stream",
          "name": "stdout",
          "text": [
            "4.0\n"
          ]
        }
      ]
    },
    {
      "cell_type": "code",
      "source": [
        "x = 2**5\n",
        "y = 3**4\n",
        "z = 18\n",
        "print(x+y/z)"
      ],
      "metadata": {
        "colab": {
          "base_uri": "https://localhost:8080/"
        },
        "id": "8ekDchyJI4mZ",
        "outputId": "1cbbd928-a351-487f-9ed1-02dfa2a2017e"
      },
      "execution_count": null,
      "outputs": [
        {
          "output_type": "stream",
          "name": "stdout",
          "text": [
            "36.5\n"
          ]
        }
      ]
    },
    {
      "cell_type": "code",
      "source": [
        "80/6"
      ],
      "metadata": {
        "colab": {
          "base_uri": "https://localhost:8080/"
        },
        "id": "emb27UJ2JcWl",
        "outputId": "9fbbc0df-5593-42da-cdb2-06b691c969c7"
      },
      "execution_count": null,
      "outputs": [
        {
          "output_type": "execute_result",
          "data": {
            "text/plain": [
              "13.333333333333334"
            ]
          },
          "metadata": {},
          "execution_count": 28
        }
      ]
    },
    {
      "cell_type": "code",
      "source": [
        "80//6"
      ],
      "metadata": {
        "colab": {
          "base_uri": "https://localhost:8080/"
        },
        "id": "kBdMi14kJkZs",
        "outputId": "fe04464e-f5dc-4dbf-a234-927a0f483857"
      },
      "execution_count": null,
      "outputs": [
        {
          "output_type": "execute_result",
          "data": {
            "text/plain": [
              "13"
            ]
          },
          "metadata": {},
          "execution_count": 29
        }
      ]
    },
    {
      "cell_type": "markdown",
      "source": [
        "2. Comparison Operators\n",
        "\n",
        "These operators are used to compare two values and return 'True' or 'False'."
      ],
      "metadata": {
        "id": "CqxGxa1jAehf"
      }
    },
    {
      "cell_type": "code",
      "source": [
        "a = 40\n",
        "b = 50\n",
        "print(a>b)"
      ],
      "metadata": {
        "colab": {
          "base_uri": "https://localhost:8080/"
        },
        "id": "HTaxJmpRAihS",
        "outputId": "a164895d-3b4c-4607-ea21-8d1afb47ceb8"
      },
      "execution_count": null,
      "outputs": [
        {
          "output_type": "stream",
          "name": "stdout",
          "text": [
            "False\n"
          ]
        }
      ]
    },
    {
      "cell_type": "code",
      "source": [
        "a = 40\n",
        "b = 50\n",
        "print(a<b)"
      ],
      "metadata": {
        "colab": {
          "base_uri": "https://localhost:8080/"
        },
        "outputId": "6a219a33-20da-4ba7-89c7-4c9c2ffa790d",
        "id": "K15SEvnKC0J7"
      },
      "execution_count": null,
      "outputs": [
        {
          "output_type": "stream",
          "name": "stdout",
          "text": [
            "True\n"
          ]
        }
      ]
    },
    {
      "cell_type": "code",
      "source": [
        "a = 50\n",
        "b = 50\n",
        "print(a==b)"
      ],
      "metadata": {
        "colab": {
          "base_uri": "https://localhost:8080/"
        },
        "id": "sLj2jBd8C_Mp",
        "outputId": "5b73ab29-b65d-463b-da4a-f13a6830106a"
      },
      "execution_count": null,
      "outputs": [
        {
          "output_type": "stream",
          "name": "stdout",
          "text": [
            "True\n"
          ]
        }
      ]
    },
    {
      "cell_type": "markdown",
      "source": [
        "3. Logical Operators\n",
        "\n",
        "These operators are used to combine conditional statements. 'and', 'or'."
      ],
      "metadata": {
        "id": "ZP9jxQhXIOry"
      }
    },
    {
      "cell_type": "code",
      "source": [
        " x = 5\n",
        "y = 10\n",
        "z = 15\n",
        "print(x < y and y < z)"
      ],
      "metadata": {
        "colab": {
          "base_uri": "https://localhost:8080/"
        },
        "id": "UvFXSNvIISkT",
        "outputId": "d6fae8ec-b4d9-48ef-f980-c879a015edd3"
      },
      "execution_count": null,
      "outputs": [
        {
          "output_type": "stream",
          "name": "stdout",
          "text": [
            "True\n"
          ]
        }
      ]
    },
    {
      "cell_type": "code",
      "source": [
        "x = 3\n",
        "y = 7\n",
        "z = 11\n",
        "print(x > y and y < z)"
      ],
      "metadata": {
        "colab": {
          "base_uri": "https://localhost:8080/"
        },
        "id": "jmpZ6BpaJ7H6",
        "outputId": "f515392e-a58f-4e21-9193-0e97f29a0203"
      },
      "execution_count": null,
      "outputs": [
        {
          "output_type": "stream",
          "name": "stdout",
          "text": [
            "False\n"
          ]
        }
      ]
    },
    {
      "cell_type": "code",
      "source": [
        "x = 5\n",
        "y = 10\n",
        "z = 15\n",
        "print(x < y or y > z)"
      ],
      "metadata": {
        "colab": {
          "base_uri": "https://localhost:8080/"
        },
        "id": "pwpmV-EJKXVy",
        "outputId": "be6b4ac7-e3c8-4ec8-c7a3-b5ef1f807ff5"
      },
      "execution_count": null,
      "outputs": [
        {
          "output_type": "stream",
          "name": "stdout",
          "text": [
            "True\n"
          ]
        }
      ]
    },
    {
      "cell_type": "code",
      "source": [
        "x = 3\n",
        "y = 7\n",
        "z = 11\n",
        "print(x > y or y > z)"
      ],
      "metadata": {
        "colab": {
          "base_uri": "https://localhost:8080/"
        },
        "id": "JH6TwsmpKek9",
        "outputId": "f89b37c6-befd-4168-d239-8dc42d43ec49"
      },
      "execution_count": null,
      "outputs": [
        {
          "output_type": "stream",
          "name": "stdout",
          "text": [
            "False\n"
          ]
        }
      ]
    },
    {
      "cell_type": "markdown",
      "source": [
        "4. Assignment Operators\n",
        "\n",
        "These operators are used to assign values to variables."
      ],
      "metadata": {
        "id": "8KPiYlOzKqM6"
      }
    },
    {
      "cell_type": "code",
      "source": [
        "b = 10\n",
        "b += 5\n",
        "print(b)\n"
      ],
      "metadata": {
        "colab": {
          "base_uri": "https://localhost:8080/"
        },
        "id": "loM13ZSJKuHn",
        "outputId": "4b2995dd-175c-442f-cbd5-e95df20a3442"
      },
      "execution_count": null,
      "outputs": [
        {
          "output_type": "stream",
          "name": "stdout",
          "text": [
            "15\n"
          ]
        }
      ]
    },
    {
      "cell_type": "code",
      "source": [
        "b *= 4\n",
        "print(b)"
      ],
      "metadata": {
        "colab": {
          "base_uri": "https://localhost:8080/"
        },
        "id": "-TXVvFfNMZmi",
        "outputId": "5adf3b76-c7bf-465b-b11e-66752246dcda"
      },
      "execution_count": null,
      "outputs": [
        {
          "output_type": "stream",
          "name": "stdout",
          "text": [
            "60\n"
          ]
        }
      ]
    },
    {
      "cell_type": "code",
      "source": [
        "b /= 20\n",
        "print(b)"
      ],
      "metadata": {
        "colab": {
          "base_uri": "https://localhost:8080/"
        },
        "id": "VMAx8SWxMu4s",
        "outputId": "2e974159-c6bd-467d-85d3-441b8ba9f084"
      },
      "execution_count": null,
      "outputs": [
        {
          "output_type": "stream",
          "name": "stdout",
          "text": [
            "3.0\n"
          ]
        }
      ]
    },
    {
      "cell_type": "markdown",
      "source": [
        " 5. Membership Operators\n",
        "\n",
        "These operators test if a sequence contains a specified value."
      ],
      "metadata": {
        "id": "jRmMvJnfPHuD"
      }
    },
    {
      "cell_type": "code",
      "source": [
        "a = \"i m preeti\"\n",
        "\"m\" in a\n"
      ],
      "metadata": {
        "colab": {
          "base_uri": "https://localhost:8080/"
        },
        "id": "NMx6q65qPK2X",
        "outputId": "e25c12ed-6624-4444-bf2a-8980771fe54e"
      },
      "execution_count": null,
      "outputs": [
        {
          "output_type": "execute_result",
          "data": {
            "text/plain": [
              "True"
            ]
          },
          "metadata": {},
          "execution_count": 40
        }
      ]
    },
    {
      "cell_type": "code",
      "source": [
        "b = \"python is a programming language\"\n",
        "\"java\" not in b"
      ],
      "metadata": {
        "colab": {
          "base_uri": "https://localhost:8080/"
        },
        "id": "QbobVHFAPcT4",
        "outputId": "a11fc3fd-9a26-4075-c6f7-7de7b8d808f1"
      },
      "execution_count": null,
      "outputs": [
        {
          "output_type": "execute_result",
          "data": {
            "text/plain": [
              "True"
            ]
          },
          "metadata": {},
          "execution_count": 41
        }
      ]
    },
    {
      "cell_type": "markdown",
      "source": [
        "6. Identity Operators\n",
        "\n",
        "These operators check if two objects are the same object in memory."
      ],
      "metadata": {
        "id": "pac-w2wePnEW"
      }
    },
    {
      "cell_type": "code",
      "source": [
        "B=\"python\"\n",
        "C=\"python\"\n",
        "B is C"
      ],
      "metadata": {
        "colab": {
          "base_uri": "https://localhost:8080/"
        },
        "id": "8HtIscTJPv7x",
        "outputId": "e9cea07e-6dbc-4d86-b7ed-44411dfc7314"
      },
      "execution_count": null,
      "outputs": [
        {
          "output_type": "execute_result",
          "data": {
            "text/plain": [
              "True"
            ]
          },
          "metadata": {},
          "execution_count": 43
        }
      ]
    },
    {
      "cell_type": "code",
      "source": [
        "a = 20\n",
        "a = x\n",
        "print(a is x)"
      ],
      "metadata": {
        "colab": {
          "base_uri": "https://localhost:8080/"
        },
        "id": "PU5wbNUhP3tS",
        "outputId": "15110bcc-3512-4686-bdb7-4393fd454631"
      },
      "execution_count": null,
      "outputs": [
        {
          "output_type": "stream",
          "name": "stdout",
          "text": [
            "True\n"
          ]
        }
      ]
    },
    {
      "cell_type": "markdown",
      "source": [
        "7. Bitwise Operators\n",
        "\n",
        "These operators are used to perform bit-level operations on integers.\n",
        "\n",
        "AND (&), XOR (^) , OR (|) , NOT (~) , Left Shift (<<) ,Right Shift (>>)\n"
      ],
      "metadata": {
        "id": "alZD2nhpQPgn"
      }
    },
    {
      "cell_type": "code",
      "source": [
        "a = 5\n",
        "b = 3\n",
        "print(a & b)"
      ],
      "metadata": {
        "colab": {
          "base_uri": "https://localhost:8080/"
        },
        "id": "s2GCNwOoQxsx",
        "outputId": "07396c2c-8770-4c27-d742-f2ab2c1d2f34"
      },
      "execution_count": null,
      "outputs": [
        {
          "output_type": "stream",
          "name": "stdout",
          "text": [
            "1\n"
          ]
        }
      ]
    },
    {
      "cell_type": "code",
      "source": [
        "bin(5)"
      ],
      "metadata": {
        "colab": {
          "base_uri": "https://localhost:8080/",
          "height": 35
        },
        "id": "5ggvKuuILIV4",
        "outputId": "e319589f-d67c-479a-8a6a-61ee28d0b75b"
      },
      "execution_count": 23,
      "outputs": [
        {
          "output_type": "execute_result",
          "data": {
            "text/plain": [
              "'0b101'"
            ],
            "application/vnd.google.colaboratory.intrinsic+json": {
              "type": "string"
            }
          },
          "metadata": {},
          "execution_count": 23
        }
      ]
    },
    {
      "cell_type": "code",
      "source": [
        "bin(3)"
      ],
      "metadata": {
        "colab": {
          "base_uri": "https://localhost:8080/",
          "height": 35
        },
        "id": "hpj3joCwLK3H",
        "outputId": "737e69c8-eb81-4814-bb3e-a7118c2741ef"
      },
      "execution_count": 24,
      "outputs": [
        {
          "output_type": "execute_result",
          "data": {
            "text/plain": [
              "'0b11'"
            ],
            "application/vnd.google.colaboratory.intrinsic+json": {
              "type": "string"
            }
          },
          "metadata": {},
          "execution_count": 24
        }
      ]
    },
    {
      "cell_type": "code",
      "source": [
        "print(5 | 3)\n"
      ],
      "metadata": {
        "colab": {
          "base_uri": "https://localhost:8080/"
        },
        "id": "5we2F6ESRKSv",
        "outputId": "9b1d47be-8499-4593-ca97-2030d980797c"
      },
      "execution_count": 20,
      "outputs": [
        {
          "output_type": "stream",
          "name": "stdout",
          "text": [
            "7\n"
          ]
        }
      ]
    },
    {
      "cell_type": "code",
      "source": [
        "print(~5)"
      ],
      "metadata": {
        "colab": {
          "base_uri": "https://localhost:8080/"
        },
        "id": "MkAeUawCKrAE",
        "outputId": "f555242b-d23c-4013-ec4e-4a1e55f2cfe3"
      },
      "execution_count": 21,
      "outputs": [
        {
          "output_type": "stream",
          "name": "stdout",
          "text": [
            "-6\n"
          ]
        }
      ]
    },
    {
      "cell_type": "code",
      "source": [
        "print(5 << 3)"
      ],
      "metadata": {
        "colab": {
          "base_uri": "https://localhost:8080/"
        },
        "id": "YRGzittsK956",
        "outputId": "54c0126f-80b2-403c-e0b1-5e58ade694d0"
      },
      "execution_count": 22,
      "outputs": [
        {
          "output_type": "stream",
          "name": "stdout",
          "text": [
            "40\n"
          ]
        }
      ]
    },
    {
      "cell_type": "code",
      "source": [
        "print(5 >> 3)"
      ],
      "metadata": {
        "colab": {
          "base_uri": "https://localhost:8080/"
        },
        "id": "5dEphaJNLV7E",
        "outputId": "f3cfe82e-13ab-4ded-a0b2-c6262f8abe71"
      },
      "execution_count": 25,
      "outputs": [
        {
          "output_type": "stream",
          "name": "stdout",
          "text": [
            "0\n"
          ]
        }
      ]
    },
    {
      "cell_type": "markdown",
      "source": [
        "**Explain the concept of type casting in Python with examples.**\n",
        "\n",
        "Type casting in Python is the process of changing the data type of a variable from one type to another. It can happen automatically (implicit casting) or manually (explicit casting)"
      ],
      "metadata": {
        "id": "HAr51t30AQry"
      }
    },
    {
      "cell_type": "code",
      "source": [
        "a = \"20\"\n",
        "b = 30\n",
        "int(a)+b"
      ],
      "metadata": {
        "colab": {
          "base_uri": "https://localhost:8080/"
        },
        "id": "DDKOZw9pAgTP",
        "outputId": "c885eabe-0ff3-4789-b260-088b4bf5788b"
      },
      "execution_count": 3,
      "outputs": [
        {
          "output_type": "execute_result",
          "data": {
            "text/plain": [
              "50"
            ]
          },
          "metadata": {},
          "execution_count": 3
        }
      ]
    },
    {
      "cell_type": "code",
      "source": [
        "x = 5.7\n",
        "int(x)\n"
      ],
      "metadata": {
        "colab": {
          "base_uri": "https://localhost:8080/"
        },
        "id": "gFLjh3sDBQh8",
        "outputId": "bbe7e714-950a-42ff-dd59-3c145590febf"
      },
      "execution_count": 5,
      "outputs": [
        {
          "output_type": "execute_result",
          "data": {
            "text/plain": [
              "5"
            ]
          },
          "metadata": {},
          "execution_count": 5
        }
      ]
    },
    {
      "cell_type": "code",
      "source": [
        "x = 5.7\n",
        "y = 7\n",
        "x+y"
      ],
      "metadata": {
        "colab": {
          "base_uri": "https://localhost:8080/"
        },
        "id": "bGR9D_IqCCYp",
        "outputId": "bb53367d-2b1e-434b-8656-42e7403b29c1"
      },
      "execution_count": 6,
      "outputs": [
        {
          "output_type": "execute_result",
          "data": {
            "text/plain": [
              "12.7"
            ]
          },
          "metadata": {},
          "execution_count": 6
        }
      ]
    },
    {
      "cell_type": "code",
      "source": [
        "y = 32\n",
        "float(y)"
      ],
      "metadata": {
        "colab": {
          "base_uri": "https://localhost:8080/"
        },
        "id": "SqSE6PvuI7Tg",
        "outputId": "cdb6592d-5d7f-4c5e-8f63-a741ac3b6721"
      },
      "execution_count": 18,
      "outputs": [
        {
          "output_type": "execute_result",
          "data": {
            "text/plain": [
              "32.0"
            ]
          },
          "metadata": {},
          "execution_count": 18
        }
      ]
    },
    {
      "cell_type": "markdown",
      "source": [
        "**How do conditional statements work in Python? Illustrate with examples.**\n",
        "\n",
        "Conditional statements in Python are used to execute code based on certain conditions. They allow you to control the flow of your program by executing different blocks of code depending on whether a condition is True or False. The main conditional statements in Python are if, elif, and else.\n"
      ],
      "metadata": {
        "id": "XEsktxL99uBg"
      }
    },
    {
      "cell_type": "code",
      "source": [
        "age = 20\n",
        "if age > 18:\n",
        "  print(\"you are a minor\")\n",
        "elif 18<=60:\n",
        "  print(\"you are an adult\")\n",
        "else:\n",
        "  print(\"you are senior\")"
      ],
      "metadata": {
        "colab": {
          "base_uri": "https://localhost:8080/"
        },
        "outputId": "55779680-0218-4dd2-9254-a5667064f099",
        "id": "37YX7MSI-uls"
      },
      "execution_count": null,
      "outputs": [
        {
          "output_type": "stream",
          "name": "stdout",
          "text": [
            "you are a minor\n"
          ]
        }
      ]
    },
    {
      "cell_type": "code",
      "source": [
        "score = 72\n",
        "if score >=90:\n",
        "  print(\"A++\")\n",
        "elif score >=80:\n",
        "  print(\"A\")\n",
        "elif score >=70:\n",
        "  print(\"B\")\n",
        "elif score >=60:\n",
        "  print(\"C\")\n",
        "else:\n",
        "  print(\"pass\")\n"
      ],
      "metadata": {
        "colab": {
          "base_uri": "https://localhost:8080/"
        },
        "outputId": "7d238659-75f2-436e-84c1-81280284b3c4",
        "id": "eXRRAmGr-3X7"
      },
      "execution_count": null,
      "outputs": [
        {
          "output_type": "stream",
          "name": "stdout",
          "text": [
            "B\n"
          ]
        }
      ]
    },
    {
      "cell_type": "code",
      "source": [
        "x = 12\n",
        "y = 8\n",
        "\n",
        "if x > 10:\n",
        "    if y < 10:\n",
        "        print(\"x is greater than 10 and y is less than 10\")\n",
        "    else:\n",
        "        print(\"x is greater than 10 but y is not less than 10\")\n",
        "else:\n",
        "    print(\"x is not greater than 10\")\n"
      ],
      "metadata": {
        "colab": {
          "base_uri": "https://localhost:8080/"
        },
        "id": "wqLgDyNf_Nj9",
        "outputId": "181ba1dd-c627-4593-870c-1d3cd27c09f6"
      },
      "execution_count": 1,
      "outputs": [
        {
          "output_type": "stream",
          "name": "stdout",
          "text": [
            "x is greater than 10 and y is less than 10\n"
          ]
        }
      ]
    },
    {
      "cell_type": "markdown",
      "source": [
        "**Describe the different types of loops in Python and their use cases with examples.**\n",
        "\n",
        " In Python , loops are used to execute a block of code multiple times.\n",
        "\n",
        "'for' , 'while' loops\n"
      ],
      "metadata": {
        "id": "EQTUl0XfLfKx"
      }
    },
    {
      "cell_type": "markdown",
      "source": [
        "'for' Loop\n",
        "The 'for' loop is used to iterate over a sequence (like a list or string) or a range of numbers."
      ],
      "metadata": {
        "id": "wcCm2-xAeyEP"
      }
    },
    {
      "cell_type": "code",
      "source": [
        "for i in \"sophistication\":\n",
        "  print(i)"
      ],
      "metadata": {
        "colab": {
          "base_uri": "https://localhost:8080/"
        },
        "id": "8ohAqBG5e5Ek",
        "outputId": "982a5636-1db9-4ae4-b797-6f16d4747c27"
      },
      "execution_count": 26,
      "outputs": [
        {
          "output_type": "stream",
          "name": "stdout",
          "text": [
            "s\n",
            "o\n",
            "p\n",
            "h\n",
            "i\n",
            "s\n",
            "t\n",
            "i\n",
            "c\n",
            "a\n",
            "t\n",
            "i\n",
            "o\n",
            "n\n"
          ]
        }
      ]
    },
    {
      "cell_type": "code",
      "source": [
        "i = [1,2,3,4,5,\"ajay\",\"preeti\"]\n",
        "for j in i:\n",
        "  print(j)"
      ],
      "metadata": {
        "colab": {
          "base_uri": "https://localhost:8080/"
        },
        "id": "IFDq-btTfI6l",
        "outputId": "d23ddb88-f945-42f7-d0ae-ec5f31c2706f"
      },
      "execution_count": 27,
      "outputs": [
        {
          "output_type": "stream",
          "name": "stdout",
          "text": [
            "1\n",
            "2\n",
            "3\n",
            "4\n",
            "5\n",
            "ajay\n",
            "preeti\n"
          ]
        }
      ]
    },
    {
      "cell_type": "code",
      "source": [
        "list(range(0,20))"
      ],
      "metadata": {
        "colab": {
          "base_uri": "https://localhost:8080/"
        },
        "id": "ouRPBD6Cg6bz",
        "outputId": "9d3e52cc-31f6-467d-98a3-45ef60c79fff"
      },
      "execution_count": 39,
      "outputs": [
        {
          "output_type": "execute_result",
          "data": {
            "text/plain": [
              "[0, 1, 2, 3, 4, 5, 6, 7, 8, 9, 10, 11, 12, 13, 14, 15, 16, 17, 18, 19]"
            ]
          },
          "metadata": {},
          "execution_count": 39
        }
      ]
    },
    {
      "cell_type": "code",
      "source": [
        "list(range(0,20,3))"
      ],
      "metadata": {
        "colab": {
          "base_uri": "https://localhost:8080/"
        },
        "id": "Od07C2LWhFHo",
        "outputId": "2e02e085-b407-4cf3-a665-729db286c577"
      },
      "execution_count": 40,
      "outputs": [
        {
          "output_type": "execute_result",
          "data": {
            "text/plain": [
              "[0, 3, 6, 9, 12, 15, 18]"
            ]
          },
          "metadata": {},
          "execution_count": 40
        }
      ]
    },
    {
      "cell_type": "markdown",
      "source": [
        "'while' loop - repeatedly execute a block of code until a conditon is met."
      ],
      "metadata": {
        "id": "FAmppB_lhUwk"
      }
    },
    {
      "cell_type": "code",
      "source": [
        "n = 7\n",
        "i = 0\n",
        "while i < n:\n",
        "  print(i)\n",
        "  i += 1"
      ],
      "metadata": {
        "colab": {
          "base_uri": "https://localhost:8080/"
        },
        "id": "QYwoFCqwhihU",
        "outputId": "c6e61168-daf1-45ad-ec37-b7c918c2c37a"
      },
      "execution_count": 41,
      "outputs": [
        {
          "output_type": "stream",
          "name": "stdout",
          "text": [
            "0\n",
            "1\n",
            "2\n",
            "3\n",
            "4\n",
            "5\n",
            "6\n"
          ]
        }
      ]
    },
    {
      "cell_type": "code",
      "source": [
        "n = 7\n",
        "i -= 1\n",
        "while i < n:\n",
        "  if i == 3:\n",
        "    break\n",
        "  print(i)\n",
        "  i -= 1"
      ],
      "metadata": {
        "colab": {
          "base_uri": "https://localhost:8080/"
        },
        "id": "LCgcUdzUhsJW",
        "outputId": "a970f11f-1967-4c3b-ecf7-957b7ddf435b"
      },
      "execution_count": 42,
      "outputs": [
        {
          "output_type": "stream",
          "name": "stdout",
          "text": [
            "6\n",
            "5\n",
            "4\n"
          ]
        }
      ]
    },
    {
      "cell_type": "code",
      "source": [
        "n = 7\n",
        "i = 0\n",
        "while i < n:\n",
        "  i += 1\n",
        "  if i == 6:\n",
        "    continue\n",
        "  print(i)"
      ],
      "metadata": {
        "colab": {
          "base_uri": "https://localhost:8080/"
        },
        "id": "r5CI-xUhh8ar",
        "outputId": "92702bc9-7f39-4294-800f-239a92e24c47"
      },
      "execution_count": 43,
      "outputs": [
        {
          "output_type": "stream",
          "name": "stdout",
          "text": [
            "1\n",
            "2\n",
            "3\n",
            "4\n",
            "5\n",
            "7\n"
          ]
        }
      ]
    }
  ]
}